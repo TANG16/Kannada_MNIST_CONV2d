{
 "cells": [
  {
   "cell_type": "markdown",
   "metadata": {},
   "source": [
    "## Kannada MNIST Digits Dataset"
   ]
  },
  {
   "cell_type": "markdown",
   "metadata": {},
   "source": [
    "This notebook is my second iteration of the Kannada MNIST dataset I found on Kaggle. I decided to start from scratch because I wanted to try using a CNN and implementing data augmentation. \n",
    "\n",
    "My previous attempt resulted in accuracy scores in the 90%s on the validation set; however, I received accuracy scores in the 60%s on the holdout set. This made me think that I either didn't have enough data to train on, or the data in the holdout set wasn't an accuracte representation of the training data. My previous notebook compared neural network of just Dense layers (2x50, 2x100, 3x50, and 3x100).\n",
    "\n",
    "Since this is a dataset on digits, I think I will be able to improve accuracy scores by using a CNN and augmenting the data through rotations, shearing, etc."
   ]
  },
  {
   "cell_type": "markdown",
   "metadata": {},
   "source": [
    "## Importing and Reshaping Data"
   ]
  },
  {
   "cell_type": "code",
   "execution_count": 1,
   "metadata": {},
   "outputs": [
    {
     "name": "stderr",
     "output_type": "stream",
     "text": [
      "Using TensorFlow backend.\n"
     ]
    }
   ],
   "source": [
    "# Import Packages\n",
    "import pandas as pd\n",
    "import numpy as np\n",
    "from keras.utils import to_categorical, np_utils\n",
    "from sklearn.utils import shuffle\n",
    "from keras import regularizers"
   ]
  },
  {
   "cell_type": "code",
   "execution_count": 2,
   "metadata": {},
   "outputs": [
    {
     "data": {
      "text/html": [
       "<div>\n",
       "<style scoped>\n",
       "    .dataframe tbody tr th:only-of-type {\n",
       "        vertical-align: middle;\n",
       "    }\n",
       "\n",
       "    .dataframe tbody tr th {\n",
       "        vertical-align: top;\n",
       "    }\n",
       "\n",
       "    .dataframe thead th {\n",
       "        text-align: right;\n",
       "    }\n",
       "</style>\n",
       "<table border=\"1\" class=\"dataframe\">\n",
       "  <thead>\n",
       "    <tr style=\"text-align: right;\">\n",
       "      <th></th>\n",
       "      <th>label</th>\n",
       "      <th>pixel0</th>\n",
       "      <th>pixel1</th>\n",
       "      <th>pixel2</th>\n",
       "      <th>pixel3</th>\n",
       "      <th>pixel4</th>\n",
       "      <th>pixel5</th>\n",
       "      <th>pixel6</th>\n",
       "      <th>pixel7</th>\n",
       "      <th>pixel8</th>\n",
       "      <th>...</th>\n",
       "      <th>pixel774</th>\n",
       "      <th>pixel775</th>\n",
       "      <th>pixel776</th>\n",
       "      <th>pixel777</th>\n",
       "      <th>pixel778</th>\n",
       "      <th>pixel779</th>\n",
       "      <th>pixel780</th>\n",
       "      <th>pixel781</th>\n",
       "      <th>pixel782</th>\n",
       "      <th>pixel783</th>\n",
       "    </tr>\n",
       "  </thead>\n",
       "  <tbody>\n",
       "    <tr>\n",
       "      <th>0</th>\n",
       "      <td>0</td>\n",
       "      <td>0</td>\n",
       "      <td>0</td>\n",
       "      <td>0</td>\n",
       "      <td>0</td>\n",
       "      <td>0</td>\n",
       "      <td>0</td>\n",
       "      <td>0</td>\n",
       "      <td>0</td>\n",
       "      <td>0</td>\n",
       "      <td>...</td>\n",
       "      <td>0</td>\n",
       "      <td>0</td>\n",
       "      <td>0</td>\n",
       "      <td>0</td>\n",
       "      <td>0</td>\n",
       "      <td>0</td>\n",
       "      <td>0</td>\n",
       "      <td>0</td>\n",
       "      <td>0</td>\n",
       "      <td>0</td>\n",
       "    </tr>\n",
       "    <tr>\n",
       "      <th>1</th>\n",
       "      <td>1</td>\n",
       "      <td>0</td>\n",
       "      <td>0</td>\n",
       "      <td>0</td>\n",
       "      <td>0</td>\n",
       "      <td>0</td>\n",
       "      <td>0</td>\n",
       "      <td>0</td>\n",
       "      <td>0</td>\n",
       "      <td>0</td>\n",
       "      <td>...</td>\n",
       "      <td>0</td>\n",
       "      <td>0</td>\n",
       "      <td>0</td>\n",
       "      <td>0</td>\n",
       "      <td>0</td>\n",
       "      <td>0</td>\n",
       "      <td>0</td>\n",
       "      <td>0</td>\n",
       "      <td>0</td>\n",
       "      <td>0</td>\n",
       "    </tr>\n",
       "    <tr>\n",
       "      <th>2</th>\n",
       "      <td>2</td>\n",
       "      <td>0</td>\n",
       "      <td>0</td>\n",
       "      <td>0</td>\n",
       "      <td>0</td>\n",
       "      <td>0</td>\n",
       "      <td>0</td>\n",
       "      <td>0</td>\n",
       "      <td>0</td>\n",
       "      <td>0</td>\n",
       "      <td>...</td>\n",
       "      <td>0</td>\n",
       "      <td>0</td>\n",
       "      <td>0</td>\n",
       "      <td>0</td>\n",
       "      <td>0</td>\n",
       "      <td>0</td>\n",
       "      <td>0</td>\n",
       "      <td>0</td>\n",
       "      <td>0</td>\n",
       "      <td>0</td>\n",
       "    </tr>\n",
       "    <tr>\n",
       "      <th>3</th>\n",
       "      <td>3</td>\n",
       "      <td>0</td>\n",
       "      <td>0</td>\n",
       "      <td>0</td>\n",
       "      <td>0</td>\n",
       "      <td>0</td>\n",
       "      <td>0</td>\n",
       "      <td>0</td>\n",
       "      <td>0</td>\n",
       "      <td>0</td>\n",
       "      <td>...</td>\n",
       "      <td>0</td>\n",
       "      <td>0</td>\n",
       "      <td>0</td>\n",
       "      <td>0</td>\n",
       "      <td>0</td>\n",
       "      <td>0</td>\n",
       "      <td>0</td>\n",
       "      <td>0</td>\n",
       "      <td>0</td>\n",
       "      <td>0</td>\n",
       "    </tr>\n",
       "    <tr>\n",
       "      <th>4</th>\n",
       "      <td>4</td>\n",
       "      <td>0</td>\n",
       "      <td>0</td>\n",
       "      <td>0</td>\n",
       "      <td>0</td>\n",
       "      <td>0</td>\n",
       "      <td>0</td>\n",
       "      <td>0</td>\n",
       "      <td>0</td>\n",
       "      <td>0</td>\n",
       "      <td>...</td>\n",
       "      <td>0</td>\n",
       "      <td>0</td>\n",
       "      <td>0</td>\n",
       "      <td>0</td>\n",
       "      <td>0</td>\n",
       "      <td>0</td>\n",
       "      <td>0</td>\n",
       "      <td>0</td>\n",
       "      <td>0</td>\n",
       "      <td>0</td>\n",
       "    </tr>\n",
       "  </tbody>\n",
       "</table>\n",
       "<p>5 rows × 785 columns</p>\n",
       "</div>"
      ],
      "text/plain": [
       "   label  pixel0  pixel1  pixel2  pixel3  pixel4  pixel5  pixel6  pixel7  \\\n",
       "0      0       0       0       0       0       0       0       0       0   \n",
       "1      1       0       0       0       0       0       0       0       0   \n",
       "2      2       0       0       0       0       0       0       0       0   \n",
       "3      3       0       0       0       0       0       0       0       0   \n",
       "4      4       0       0       0       0       0       0       0       0   \n",
       "\n",
       "   pixel8  ...  pixel774  pixel775  pixel776  pixel777  pixel778  pixel779  \\\n",
       "0       0  ...         0         0         0         0         0         0   \n",
       "1       0  ...         0         0         0         0         0         0   \n",
       "2       0  ...         0         0         0         0         0         0   \n",
       "3       0  ...         0         0         0         0         0         0   \n",
       "4       0  ...         0         0         0         0         0         0   \n",
       "\n",
       "   pixel780  pixel781  pixel782  pixel783  \n",
       "0         0         0         0         0  \n",
       "1         0         0         0         0  \n",
       "2         0         0         0         0  \n",
       "3         0         0         0         0  \n",
       "4         0         0         0         0  \n",
       "\n",
       "[5 rows x 785 columns]"
      ]
     },
     "execution_count": 2,
     "metadata": {},
     "output_type": "execute_result"
    }
   ],
   "source": [
    "# Import Data\n",
    "df = pd.read_csv('train.csv')\n",
    "df.head()"
   ]
  },
  {
   "cell_type": "code",
   "execution_count": 3,
   "metadata": {
    "scrolled": true
   },
   "outputs": [],
   "source": [
    "# Convert features and target into arrays\n",
    "y = df['label'].values\n",
    "X = df.loc[:,df.columns != 'label'].values\n",
    "X = np.true_divide(X, 255)\n",
    "\n",
    "# Make n_cols variable to use in model parameters\n",
    "n_cols = X.shape[1]"
   ]
  },
  {
   "cell_type": "code",
   "execution_count": 4,
   "metadata": {},
   "outputs": [],
   "source": [
    "# Split data into train and test\n",
    "from sklearn.model_selection import train_test_split\n",
    "Xtrain, Xtest, ytrain, ytest = train_test_split(X, y, test_size = 0.3, random_state = 56)"
   ]
  },
  {
   "cell_type": "code",
   "execution_count": 5,
   "metadata": {},
   "outputs": [
    {
     "data": {
      "image/png": "[encoded data removed]",
      "text/plain": [
       "<Figure size 432x288 with 1 Axes>"
      ]
     },
     "metadata": {
      "needs_background": "light"
     },
     "output_type": "display_data"
    },
    {
     "data": {
      "image/png": "[encoded data removed]",
      "text/plain": [
       "<Figure size 432x288 with 1 Axes>"
      ]
     },
     "metadata": {
      "needs_background": "light"
     },
     "output_type": "display_data"
    },
    {
     "data": {
      "image/png": "[encoded data removed]",
      "text/plain": [
       "<Figure size 432x288 with 1 Axes>"
      ]
     },
     "metadata": {
      "needs_background": "light"
     },
     "output_type": "display_data"
    },
    {
     "data": {
      "image/png": "[encoded data removed]",
      "text/plain": [
       "<Figure size 432x288 with 1 Axes>"
      ]
     },
     "metadata": {
      "needs_background": "light"
     },
     "output_type": "display_data"
    },
    {
     "data": {
      "image/png": "[encoded data removed]",
      "text/plain": [
       "<Figure size 432x288 with 1 Axes>"
      ]
     },
     "metadata": {
      "needs_background": "light"
     },
     "output_type": "display_data"
    },
    {
     "data": {
      "image/png": "[encoded data removed]",
      "text/plain": [
       "<Figure size 432x288 with 1 Axes>"
      ]
     },
     "metadata": {
      "needs_background": "light"
     },
     "output_type": "display_data"
    },
    {
     "data": {
      "image/png": "[encoded data removed]",
      "text/plain": [
       "<Figure size 432x288 with 1 Axes>"
      ]
     },
     "metadata": {
      "needs_background": "light"
     },
     "output_type": "display_data"
    },
    {
     "data": {
      "image/png": "[encoded data removed]",
      "text/plain": [
       "<Figure size 432x288 with 1 Axes>"
      ]
     },
     "metadata": {
      "needs_background": "light"
     },
     "output_type": "display_data"
    },
    {
     "data": {
      "image/png": "[encoded data removed]",
      "text/plain": [
       "<Figure size 432x288 with 1 Axes>"
      ]
     },
     "metadata": {
      "needs_background": "light"
     },
     "output_type": "display_data"
    },
    {
     "data": {
      "image/png": "[encoded data removed]",
      "text/plain": [
       "<Figure size 432x288 with 1 Axes>"
      ]
     },
     "metadata": {
      "needs_background": "light"
     },
     "output_type": "display_data"
    }
   ],
   "source": [
    "# Show first 10 images\n",
    "%matplotlib inline \n",
    "from matplotlib import pyplot as plt\n",
    "\n",
    "for i in range(10):\n",
    "    image = np.reshape(X[i], (28,28))\n",
    "    plt.imshow(image, cmap=plt.get_cmap('gray'))\n",
    "    plt.show()"
   ]
  },
  {
   "cell_type": "code",
   "execution_count": 6,
   "metadata": {},
   "outputs": [
    {
     "name": "stdout",
     "output_type": "stream",
     "text": [
      "(42000, 28, 28, 1)\n",
      "(18000, 28, 28, 1)\n",
      "(42000, 10)\n",
      "(18000, 10)\n"
     ]
    }
   ],
   "source": [
    "# Create 4d tensors\n",
    "Xtrain = Xtrain.reshape(-1, 28, 28, 1) # TensorFlow read -1 as n\n",
    "Xtest = Xtest.reshape(-1, 28, 28, 1)   # TensorFlow read -1 as n\n",
    "print(Xtrain.shape)\n",
    "print(Xtest.shape)\n",
    "\n",
    "ytrain = to_categorical(ytrain)\n",
    "ytest = to_categorical(ytest)\n",
    "print(ytrain.shape)\n",
    "print(ytest.shape)\n",
    "\n",
    "# Create input shape variable for parameters in the model\n",
    "image_rows = 28\n",
    "image_cols = 28\n",
    "colors = 1\n",
    "input_shape = (image_rows, image_cols, colors)"
   ]
  },
  {
   "cell_type": "markdown",
   "metadata": {},
   "source": [
    "## Creating the CNN"
   ]
  },
  {
   "cell_type": "code",
   "execution_count": 7,
   "metadata": {},
   "outputs": [],
   "source": [
    "from keras.layers import Dense, Flatten, Dropout, Conv2D, MaxPooling2D\n",
    "from keras.models import Sequential \n",
    "\n",
    "def getModel():\n",
    "    # Instantiate the model\n",
    "    model = Sequential()\n",
    "\n",
    "    # Conv2D takes n dimensional image and makes it 2d\n",
    "    # Filter parameter recommended using powers of 2\n",
    "    # Kernel_size parameter is (1,1) a tuple of odd integers. Recommneded is 1,3,5,7\n",
    "    # Strides parameter is default (1,1) \n",
    "    # Padding parameter is \"valid\" or \"same\". \"valid\" means spatial dimensions are allowed to reduce. You can instead preserve spatial dimensions of the volume such that the output volume size matches the input volume size, by setting the value to “same”. \n",
    "    # Activation parameter is the activation function. Normally use \"relu\" to map negative values to 0\n",
    "    model.add(Conv2D(4, kernel_size=(3, 3),\n",
    "                 activation='relu',\n",
    "                 input_shape=input_shape,\n",
    "                 padding = 'same'))\n",
    "    \n",
    "    # Pooling layer reduces dimensionality of the feature maps but keeps the most important information\n",
    "    model.add(MaxPooling2D(pool_size=(2, 2)))\n",
    "    \n",
    "    # It seems common to increase by a power of 2 filters each Conv2d layers, if max pooling occurs directly after \n",
    "    model.add(Conv2D(8, kernel_size=(3, 3), \n",
    "                     activation='relu',\n",
    "                     padding = 'same'))\n",
    "    model.add(MaxPooling2D(pool_size=(2, 2)))\n",
    "    \n",
    "    # Flatten layer takes the 2d image from Conv2d and makes it 1d array\n",
    "    model.add(Dropout(0.25))\n",
    "    model.add(Flatten())\n",
    "\n",
    "    # Dense layers\n",
    "    model.add(Dense(128, activation='relu'))\n",
    "    model.add(Dropout(0.5))\n",
    "\n",
    "    # Output layer\n",
    "    model.add(Dense(10, activation = 'softmax'))\n",
    "    \n",
    "    # Compile\n",
    "    model.compile(optimizer = 'adam', loss = 'categorical_crossentropy', metrics = ['accuracy'])\n",
    "    \n",
    "    return model"
   ]
  },
  {
   "cell_type": "code",
   "execution_count": 8,
   "metadata": {},
   "outputs": [],
   "source": [
    "# Fit the model\n",
    "from keras.callbacks import EarlyStopping\n",
    "\n",
    "model_original = getModel()\n",
    "\n",
    "# Create early stopping parameter\n",
    "# es = EarlyStopping(monitor='accuracy', mode='max', verbose=1, patience = 10)\n",
    "# Early stopping isn't really necessary since I am only using 10 epochs\n",
    "\n",
    "history_original = model_original.fit(Xtrain, ytrain,\n",
    "                                     epochs = 20,\n",
    "                                     verbose = 0,\n",
    "                                     #callbacks = [es],\n",
    "                                     validation_data  = (Xtest, ytest),\n",
    "                                     batch_size = 32)"
   ]
  },
  {
   "cell_type": "markdown",
   "metadata": {},
   "source": [
    "## Augmenting Data with ImageDataGenerator()"
   ]
  },
  {
   "cell_type": "code",
   "execution_count": 9,
   "metadata": {},
   "outputs": [
    {
     "data": {
      "image/png": "[encoded data removed]",
      "text/plain": [
       "<Figure size 432x288 with 9 Axes>"
      ]
     },
     "metadata": {
      "needs_background": "light"
     },
     "output_type": "display_data"
    }
   ],
   "source": [
    "# Observe how parameters affect images\n",
    "from keras.preprocessing.image import ImageDataGenerator\n",
    "\n",
    "datagen = ImageDataGenerator(width_shift_range=.2)\n",
    "# fit parameters from data\n",
    "datagen.fit(Xtrain)\n",
    "# configure batch size and retrieve one batch of images\n",
    "for X_batch, y_batch in datagen.flow(Xtrain, ytrain, batch_size=9):\n",
    "    # create a grid of 3x3 images\n",
    "    for i in range(0, 9):\n",
    "        plt.subplot(330 + 1 + i)\n",
    "        plt.imshow(X_batch[i].reshape(28, 28), cmap=plt.get_cmap('gray'))\n",
    "    # show the plot\n",
    "    plt.show()\n",
    "    break"
   ]
  },
  {
   "cell_type": "code",
   "execution_count": 10,
   "metadata": {},
   "outputs": [
    {
     "data": {
      "image/png": "[encoded data removed]",
      "text/plain": [
       "<Figure size 432x288 with 9 Axes>"
      ]
     },
     "metadata": {
      "needs_background": "light"
     },
     "output_type": "display_data"
    }
   ],
   "source": [
    "datagen = ImageDataGenerator(samplewise_center=True)\n",
    "# fit parameters from data\n",
    "datagen.fit(Xtrain)\n",
    "# configure batch size and retrieve one batch of images\n",
    "for X_batch, y_batch in datagen.flow(Xtrain, ytrain, batch_size=9):\n",
    "    # create a grid of 3x3 images\n",
    "    for i in range(0, 9):\n",
    "        plt.subplot(330 + 1 + i)\n",
    "        plt.imshow(X_batch[i].reshape(28, 28), cmap=plt.get_cmap('gray'))\n",
    "    # show the plot\n",
    "    plt.show()\n",
    "    break"
   ]
  },
  {
   "cell_type": "code",
   "execution_count": 11,
   "metadata": {},
   "outputs": [
    {
     "name": "stderr",
     "output_type": "stream",
     "text": [
      "C:\\Users\\thomas.m.sugg\\AppData\\Local\\Continuum\\anaconda3\\lib\\site-packages\\keras_preprocessing\\image\\image_data_generator.py:348: UserWarning: This ImageDataGenerator specifies `featurewise_std_normalization`, which overrides setting of `featurewise_center`.\n",
      "  warnings.warn('This ImageDataGenerator specifies '\n"
     ]
    },
    {
     "data": {
      "image/png": "[encoded data removed]",
      "text/plain": [
       "<Figure size 432x288 with 9 Axes>"
      ]
     },
     "metadata": {
      "needs_background": "light"
     },
     "output_type": "display_data"
    }
   ],
   "source": [
    "datagen = ImageDataGenerator(featurewise_std_normalization=True)\n",
    "# fit parameters from data\n",
    "datagen.fit(Xtrain)\n",
    "# configure batch size and retrieve one batch of images\n",
    "for X_batch, y_batch in datagen.flow(Xtrain, ytrain, batch_size=9):\n",
    "    # create a grid of 3x3 images\n",
    "    for i in range(0, 9):\n",
    "        plt.subplot(330 + 1 + i)\n",
    "        plt.imshow(X_batch[i].reshape(28, 28), cmap=plt.get_cmap('gray'))\n",
    "    # show the plot\n",
    "    plt.show()\n",
    "    break"
   ]
  },
  {
   "cell_type": "code",
   "execution_count": 12,
   "metadata": {},
   "outputs": [
    {
     "data": {
      "image/png": "[encoded data removed]",
      "text/plain": [
       "<Figure size 432x288 with 9 Axes>"
      ]
     },
     "metadata": {
      "needs_background": "light"
     },
     "output_type": "display_data"
    }
   ],
   "source": [
    "datagen = ImageDataGenerator(rotation_range=1.5)\n",
    "# fit parameters from data\n",
    "datagen.fit(Xtrain)\n",
    "# configure batch size and retrieve one batch of images\n",
    "for X_batch, y_batch in datagen.flow(Xtrain, ytrain, batch_size=9):\n",
    "    # create a grid of 3x3 images\n",
    "    for i in range(0, 9):\n",
    "        plt.subplot(330 + 1 + i)\n",
    "        plt.imshow(X_batch[i].reshape(28, 28), cmap=plt.get_cmap('gray'))\n",
    "    # show the plot\n",
    "    plt.show()\n",
    "    break"
   ]
  },
  {
   "cell_type": "code",
   "execution_count": 13,
   "metadata": {},
   "outputs": [
    {
     "name": "stdout",
     "output_type": "stream",
     "text": [
      "(42000, 28, 28, 1)\n",
      "(42000, 28, 28, 1)\n",
      "(18000, 28, 28, 1)\n",
      "(84000, 28, 28, 1)\n"
     ]
    }
   ],
   "source": [
    "# Data Augmentation\n",
    "# Create copies of the original dataset\n",
    "Xtrain2 = np.array(Xtrain, copy=True)\n",
    "ytrain2 = np.array(ytrain, copy=True)\n",
    "\n",
    "# Create the image generator \n",
    "datagen1 = ImageDataGenerator(width_shift_range= 0.2, #Horizontal shift\n",
    "                             fill_mode = 'nearest',\n",
    "                             height_shift_range=0.2, # Vertical shift\n",
    "                             shear_range = 0.2,\n",
    "                             zoom_range = 0.2,\n",
    "                             rotation_range=25, # Random Rotations \n",
    "                             )\n",
    "\n",
    "# Fit the image generator to the training data\n",
    "datagen1.fit(Xtrain)\n",
    "\n",
    "# Concatenate original data with augmented data\n",
    "Xaug = np.concatenate((Xtrain, Xtrain2), axis = 0)\n",
    "yaug = np.concatenate((ytrain, ytrain2), axis = 0)\n",
    "\n",
    "print(Xtrain.shape)\n",
    "print(Xtrain2.shape)\n",
    "print(Xtest.shape)\n",
    "print(Xaug.shape)"
   ]
  },
  {
   "cell_type": "code",
   "execution_count": 14,
   "metadata": {},
   "outputs": [
    {
     "name": "stdout",
     "output_type": "stream",
     "text": [
      "(42000, 10)\n",
      "(42000, 10)\n",
      "(18000, 10)\n",
      "(84000, 10)\n"
     ]
    }
   ],
   "source": [
    "print(ytrain.shape)\n",
    "print(ytrain2.shape)\n",
    "print(ytest.shape)\n",
    "print(yaug.shape)"
   ]
  },
  {
   "cell_type": "markdown",
   "metadata": {},
   "source": [
    "## Training a Second CNN with the Generator"
   ]
  },
  {
   "cell_type": "code",
   "execution_count": 15,
   "metadata": {},
   "outputs": [],
   "source": [
    "# Train with generator \n",
    "datagen_flow = datagen1.flow(Xaug, yaug, \n",
    "                            batch_size = 32)\n",
    "\n",
    "model2 = getModel()\n",
    "\n",
    "history_datagen = model2.fit_generator(datagen_flow, \n",
    "                                              steps_per_epoch = len(Xaug) // 32,\n",
    "                                              epochs = 20, \n",
    "                                              verbose = 0,\n",
    "                                              #callbacks = [es],\n",
    "                                              validation_data = (Xtest, ytest))"
   ]
  },
  {
   "cell_type": "markdown",
   "metadata": {},
   "source": [
    "# Evaluating Scores"
   ]
  },
  {
   "cell_type": "code",
   "execution_count": 16,
   "metadata": {},
   "outputs": [
    {
     "name": "stdout",
     "output_type": "stream",
     "text": [
      "Final non_augmented validation loss: 0.019426436877566934 \n",
      "final non_augmented validation accuracy: 0.9944999814033508\n",
      "Final augmented validation loss:  0.04878174902291762 \n",
      "final augmented validation accuracy: 0.9851666688919067\n"
     ]
    }
   ],
   "source": [
    "# Print Xtest scores\n",
    "print(\"Final non_augmented validation loss:\" , history_original.history['val_loss'][-1],  \"\\nfinal non_augmented validation accuracy:\", history_original.history['val_accuracy'][-1])\n",
    "print(\"Final augmented validation loss: \", history_datagen.history['val_loss'][-1], \"\\nfinal augmented validation accuracy:\", history_datagen.history['val_accuracy'][-1]) "
   ]
  },
  {
   "cell_type": "code",
   "execution_count": 22,
   "metadata": {},
   "outputs": [
    {
     "data": {
      "image/png": "[encoded data removed]",
      "text/plain": [
       "<Figure size 1440x648 with 2 Axes>"
      ]
     },
     "metadata": {
      "needs_background": "light"
     },
     "output_type": "display_data"
    }
   ],
   "source": [
    "figure = plt.figure(figsize=(20,9))\n",
    " \n",
    "subplot = figure.add_subplot(1, 2, 1)\n",
    " \n",
    "plt.plot(history_original.history['accuracy'], color='blue', label='Original data')\n",
    "plt.plot(history_datagen.history['accuracy'], color='red', label='Datagen')\n",
    "plt.ylim(0.0,1.09)\n",
    "\n",
    "number_of_epochs = 20\n",
    "tick_marks = np.arange(number_of_epochs)\n",
    "plt.xticks(tick_marks, range(number_of_epochs), rotation=45)\n",
    "plt.title(\"non_augmented accuracy\", fontsize=13, \n",
    "             fontweight=0, color='black', style='italic', y=1.02)\n",
    "plt.legend(loc='lower right')\n",
    " \n",
    "\n",
    "subplot = figure.add_subplot(1, 2, 2)\n",
    "plt.plot(history_original.history['val_accuracy'], color='blue', label='Original data')\n",
    "plt.plot(history_datagen.history['val_accuracy'], color='red', label='Datagen')\n",
    "plt.ylim(0.0,1.09)\n",
    " \n",
    "tick_marks = np.arange(number_of_epochs)\n",
    "plt.xticks(tick_marks, range(number_of_epochs), rotation=45)\n",
    "plt.title(\"augmented accuracy\", fontsize=13, \n",
    "             fontweight=0, color='black', style='italic', y=1.02)\n",
    "plt.legend(loc='lower right')\n",
    " \n",
    "plt.show()"
   ]
  },
  {
   "cell_type": "markdown",
   "metadata": {},
   "source": [
    "# Compare Scores on the Holdout Dataset"
   ]
  },
  {
   "cell_type": "code",
   "execution_count": 18,
   "metadata": {},
   "outputs": [
    {
     "name": "stdout",
     "output_type": "stream",
     "text": [
      "(10240, 28, 28, 1)\n",
      "(10240,)\n",
      "(10240, 10)\n"
     ]
    }
   ],
   "source": [
    "# Import Holdout Dataset\n",
    "holdout = pd.read_csv('Dig-MNIST.csv')\n",
    "\n",
    "# Convert features and target into arrays\n",
    "holdout_label = holdout['label'].values\n",
    "holdout_target = to_categorical(holdout_label)\n",
    "holdout_features = holdout.loc[:,holdout.columns != 'label'].values\n",
    "holdout_features = np.true_divide(holdout_features, 255)\n",
    "holdout_features = holdout_features.reshape(-1,28,28,1)\n",
    "print(holdout_features.shape)\n",
    "print(holdout_label.shape)\n",
    "print(holdout_target.shape)"
   ]
  },
  {
   "cell_type": "markdown",
   "metadata": {},
   "source": [
    "## With Data Augmentation"
   ]
  },
  {
   "cell_type": "code",
   "execution_count": 19,
   "metadata": {},
   "outputs": [
    {
     "name": "stdout",
     "output_type": "stream",
     "text": [
      "[0 1 2 ... 7 2 9]\n",
      "(10240, 10)\n",
      "(10240,)\n",
      "(10240, 10)\n",
      "0.79306640625\n"
     ]
    }
   ],
   "source": [
    "# Predict accuracy on the whole holdout dataset using the different models \n",
    "from sklearn.metrics import accuracy_score\n",
    "\n",
    "holdout_y_pred = model2.predict_classes(holdout_features)\n",
    "\n",
    "print(holdout_y_pred)\n",
    "print(holdout_target.shape)\n",
    "print(holdout_y_pred.shape)\n",
    "\n",
    "holdout_y_pred_cats = to_categorical(holdout_y_pred)\n",
    "print(holdout_y_pred_cats.shape)\n",
    "\n",
    "print(\"Accuracy Score:\", accuracy_score(holdout_target, holdout_y_pred_cats))"
   ]
  },
  {
   "cell_type": "markdown",
   "metadata": {},
   "source": [
    "## Without Data Augmentation "
   ]
  },
  {
   "cell_type": "code",
   "execution_count": 20,
   "metadata": {},
   "outputs": [
    {
     "name": "stdout",
     "output_type": "stream",
     "text": [
      "[0 1 2 ... 7 8 9]\n",
      "(10240, 10)\n",
      "(10240,)\n",
      "(10240, 10)\n",
      "0.75771484375\n"
     ]
    }
   ],
   "source": [
    "y_pred = model_original.predict_classes(holdout_features)\n",
    "\n",
    "print(y_pred)\n",
    "print(holdout_target.shape)\n",
    "print(y_pred.shape)\n",
    "\n",
    "y_pred_cats = to_categorical(y_pred)\n",
    "print(y_pred_cats.shape)\n",
    "\n",
    "print(\"Accuracy Score:\", accuracy_score(holdout_target, y_pred_cats))"
   ]
  },
  {
   "cell_type": "markdown",
   "metadata": {},
   "source": [
    "## Results\n",
    "\n",
    "By using a CNN, I was able to bring up the accuracy at least 15%. Data augmentation improved the CNN accuracy by about 4%."
   ]
  }
 ],
 "metadata": {
  "kernelspec": {
   "display_name": "Python 3",
   "language": "python",
   "name": "python3"
  },
  "language_info": {
   "codemirror_mode": {
    "name": "ipython",
    "version": 3
   },
   "file_extension": ".py",
   "mimetype": "text/x-python",
   "name": "python",
   "nbconvert_exporter": "python",
   "pygments_lexer": "ipython3",
   "version": "3.7.3"
  }
 },
 "nbformat": 4,
 "nbformat_minor": 2
}
